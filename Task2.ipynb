{
 "cells": [
  {
   "cell_type": "code",
   "execution_count": null,
   "metadata": {
    "collapsed": true,
    "jupyter": {
     "outputs_hidden": true
    },
    "pycharm": {
     "name": "#%%\n"
    }
   },
   "outputs": [],
   "source": []
  },
  {
   "cell_type": "code",
   "execution_count": 1,
   "metadata": {
    "collapsed": false,
    "jupyter": {
     "outputs_hidden": false
    },
    "pycharm": {
     "is_executing": true,
     "name": "#%%\n"
    }
   },
   "outputs": [],
   "source": [
    "from pysnmp.hlapi import *"
   ]
  },
  {
   "cell_type": "code",
   "execution_count": 16,
   "metadata": {},
   "outputs": [],
   "source": [
    "def Get_object(object,commun):\n",
    "    iterator = getCmd(\n",
    "        SnmpEngine(),\n",
    "        CommunityData(commun, mpModel=0),\n",
    "        UdpTransportTarget(('localhost', 161)),\n",
    "        ContextData(),\n",
    "        ObjectType(ObjectIdentity(object))\n",
    "    )\n",
    "\n",
    "\n",
    "    errorIndication, errorStatus, errorIndex, varBinds = next(iterator)\n",
    "\n",
    "    if errorIndication:\n",
    "        print(errorIndication)\n",
    "\n",
    "    elif errorStatus:\n",
    "        print('%s at %s' % (errorStatus.prettyPrint(),\n",
    "                            errorIndex and varBinds[int(errorIndex) - 1][0] or '?'))\n",
    "\n",
    "    else:\n",
    "        for varBind in varBinds:\n",
    "            print(' = '.join([x.prettyPrint() for x in varBind]))\n"
   ]
  },
  {
   "cell_type": "code",
   "execution_count": 14,
   "metadata": {},
   "outputs": [],
   "source": [
    "def Set_object(object,commun,new_val):\n",
    "    iterator = setCmd(\n",
    "        SnmpEngine(),\n",
    "        CommunityData(commun),\n",
    "        UdpTransportTarget(('localhost', 161)),\n",
    "        ContextData(),\n",
    "        ObjectType(\n",
    "            ObjectIdentity(object),\n",
    "            new_val\n",
    "        )\n",
    "    )\n",
    "\n",
    "    errorIndication, errorStatus, errorIndex, varBinds = next(iterator)\n",
    "\n",
    "    if errorIndication:\n",
    "        print(errorIndication)\n",
    "\n",
    "    elif errorStatus:\n",
    "        print('%s at %s' % (errorStatus.prettyPrint(),\n",
    "                            errorIndex and varBinds[int(errorIndex) - 1][0] or '?'))\n",
    "\n",
    "    else:\n",
    "        for varBind in varBinds:\n",
    "            print(' = '.join([x.prettyPrint() for x in varBind]))\n"
   ]
  },
  {
   "cell_type": "code",
   "execution_count": 12,
   "metadata": {
    "collapsed": false,
    "jupyter": {
     "outputs_hidden": false
    },
    "pycharm": {
     "name": "#%%\n"
    }
   },
   "outputs": [],
   "source": [
    "def Get_next(object,commun):\n",
    "    snmpEngine= SnmpEngine()\n",
    "    iterator=nextCmd(SnmpEngine(),\n",
    "    CommunityData(commun),\n",
    "    UdpTransportTarget(('localhost', 161)),\n",
    "    ContextData(),\n",
    "    ObjectType(ObjectIdentity(object)),\n",
    "    )\n",
    "    errorIndication, errorStatus, errorIndex, varBinds = next(iterator)\n",
    "\n",
    "    if errorIndication:\n",
    "        print(errorIndication)\n",
    "\n",
    "    elif errorStatus:\n",
    "        print('%s at %s' % (errorStatus.prettyPrint(),\n",
    "                            errorIndex and varBinds[int(errorIndex) - 1][0] or '?'))\n",
    "\n",
    "    else:\n",
    "        for varBind in varBinds:\n",
    "            print(' = '.join([x.prettyPrint() for x in varBind]))\n"
   ]
  },
  {
   "cell_type": "code",
   "execution_count": 20,
   "metadata": {},
   "outputs": [
    {
     "name": "stdout",
     "output_type": "stream",
     "text": [
      "SNMPv2-MIB::sysContact.0 = Desktop\n"
     ]
    }
   ],
   "source": [
    "Set_object('.1.3.6.1.2.1.1.4.0','Abdo','Desktop')\n"
   ]
  },
  {
   "cell_type": "code",
   "execution_count": 21,
   "metadata": {},
   "outputs": [
    {
     "name": "stdout",
     "output_type": "stream",
     "text": [
      "SNMPv2-MIB::sysContact.0 = Desktop\n",
      "SNMPv2-MIB::sysContact.0 = Abdelrahman\n",
      "SNMPv2-MIB::sysName.0 = Abdelrahman\n"
     ]
    }
   ],
   "source": [
    "Get_object('.1.3.6.1.2.1.1.4.0','Abdo')\n",
    "Set_object('.1.3.6.1.2.1.1.4.0','Abdo','Abdelrahman')\n",
    "Get_next('.1.3.6.1.2.1.1.4.0','Abdo')\n"
   ]
  },
  {
   "cell_type": "code",
   "execution_count": null,
   "metadata": {},
   "outputs": [],
   "source": []
  },
  {
   "cell_type": "code",
   "execution_count": null,
   "metadata": {},
   "outputs": [],
   "source": []
  },
  {
   "cell_type": "code",
   "execution_count": null,
   "metadata": {},
   "outputs": [],
   "source": []
  }
 ],
 "metadata": {
  "kernelspec": {
   "display_name": "Python 3 (ipykernel)",
   "language": "python",
   "name": "python3"
  },
  "language_info": {
   "codemirror_mode": {
    "name": "ipython",
    "version": 3
   },
   "file_extension": ".py",
   "mimetype": "text/x-python",
   "name": "python",
   "nbconvert_exporter": "python",
   "pygments_lexer": "ipython3",
   "version": "3.10.5"
  }
 },
 "nbformat": 4,
 "nbformat_minor": 4
}
